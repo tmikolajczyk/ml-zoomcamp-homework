{
 "cells": [
  {
   "cell_type": "code",
   "execution_count": 1,
   "id": "61848acc-d470-4cc2-9f3e-b591a4e79d74",
   "metadata": {},
   "outputs": [],
   "source": [
    "import pandas as pd\n",
    "import numpy as np\n",
    "import matplotlib.pyplot as plt"
   ]
  },
  {
   "cell_type": "code",
   "execution_count": 2,
   "id": "74063d68-6e00-4cfe-89e6-b7217456fd2c",
   "metadata": {},
   "outputs": [],
   "source": [
    "df = pd.read_csv('AER_credit_card_data.csv')"
   ]
  },
  {
   "cell_type": "code",
   "execution_count": 3,
   "id": "fe67ab66-711b-456c-ad6c-2bb082236d6c",
   "metadata": {},
   "outputs": [
    {
     "data": {
      "text/html": [
       "<div>\n",
       "<style scoped>\n",
       "    .dataframe tbody tr th:only-of-type {\n",
       "        vertical-align: middle;\n",
       "    }\n",
       "\n",
       "    .dataframe tbody tr th {\n",
       "        vertical-align: top;\n",
       "    }\n",
       "\n",
       "    .dataframe thead th {\n",
       "        text-align: right;\n",
       "    }\n",
       "</style>\n",
       "<table border=\"1\" class=\"dataframe\">\n",
       "  <thead>\n",
       "    <tr style=\"text-align: right;\">\n",
       "      <th></th>\n",
       "      <th>card</th>\n",
       "      <th>reports</th>\n",
       "      <th>age</th>\n",
       "      <th>income</th>\n",
       "      <th>share</th>\n",
       "      <th>expenditure</th>\n",
       "      <th>owner</th>\n",
       "      <th>selfemp</th>\n",
       "      <th>dependents</th>\n",
       "      <th>months</th>\n",
       "      <th>majorcards</th>\n",
       "      <th>active</th>\n",
       "    </tr>\n",
       "  </thead>\n",
       "  <tbody>\n",
       "    <tr>\n",
       "      <th>0</th>\n",
       "      <td>yes</td>\n",
       "      <td>0</td>\n",
       "      <td>37.66667</td>\n",
       "      <td>4.5200</td>\n",
       "      <td>0.033270</td>\n",
       "      <td>124.983300</td>\n",
       "      <td>yes</td>\n",
       "      <td>no</td>\n",
       "      <td>3</td>\n",
       "      <td>54</td>\n",
       "      <td>1</td>\n",
       "      <td>12</td>\n",
       "    </tr>\n",
       "    <tr>\n",
       "      <th>1</th>\n",
       "      <td>yes</td>\n",
       "      <td>0</td>\n",
       "      <td>33.25000</td>\n",
       "      <td>2.4200</td>\n",
       "      <td>0.005217</td>\n",
       "      <td>9.854167</td>\n",
       "      <td>no</td>\n",
       "      <td>no</td>\n",
       "      <td>3</td>\n",
       "      <td>34</td>\n",
       "      <td>1</td>\n",
       "      <td>13</td>\n",
       "    </tr>\n",
       "    <tr>\n",
       "      <th>2</th>\n",
       "      <td>yes</td>\n",
       "      <td>0</td>\n",
       "      <td>33.66667</td>\n",
       "      <td>4.5000</td>\n",
       "      <td>0.004156</td>\n",
       "      <td>15.000000</td>\n",
       "      <td>yes</td>\n",
       "      <td>no</td>\n",
       "      <td>4</td>\n",
       "      <td>58</td>\n",
       "      <td>1</td>\n",
       "      <td>5</td>\n",
       "    </tr>\n",
       "    <tr>\n",
       "      <th>3</th>\n",
       "      <td>yes</td>\n",
       "      <td>0</td>\n",
       "      <td>30.50000</td>\n",
       "      <td>2.5400</td>\n",
       "      <td>0.065214</td>\n",
       "      <td>137.869200</td>\n",
       "      <td>no</td>\n",
       "      <td>no</td>\n",
       "      <td>0</td>\n",
       "      <td>25</td>\n",
       "      <td>1</td>\n",
       "      <td>7</td>\n",
       "    </tr>\n",
       "    <tr>\n",
       "      <th>4</th>\n",
       "      <td>yes</td>\n",
       "      <td>0</td>\n",
       "      <td>32.16667</td>\n",
       "      <td>9.7867</td>\n",
       "      <td>0.067051</td>\n",
       "      <td>546.503300</td>\n",
       "      <td>yes</td>\n",
       "      <td>no</td>\n",
       "      <td>2</td>\n",
       "      <td>64</td>\n",
       "      <td>1</td>\n",
       "      <td>5</td>\n",
       "    </tr>\n",
       "  </tbody>\n",
       "</table>\n",
       "</div>"
      ],
      "text/plain": [
       "  card  reports       age  income     share  expenditure owner selfemp  \\\n",
       "0  yes        0  37.66667  4.5200  0.033270   124.983300   yes      no   \n",
       "1  yes        0  33.25000  2.4200  0.005217     9.854167    no      no   \n",
       "2  yes        0  33.66667  4.5000  0.004156    15.000000   yes      no   \n",
       "3  yes        0  30.50000  2.5400  0.065214   137.869200    no      no   \n",
       "4  yes        0  32.16667  9.7867  0.067051   546.503300   yes      no   \n",
       "\n",
       "   dependents  months  majorcards  active  \n",
       "0           3      54           1      12  \n",
       "1           3      34           1      13  \n",
       "2           4      58           1       5  \n",
       "3           0      25           1       7  \n",
       "4           2      64           1       5  "
      ]
     },
     "execution_count": 3,
     "metadata": {},
     "output_type": "execute_result"
    }
   ],
   "source": [
    "df.head()"
   ]
  },
  {
   "cell_type": "markdown",
   "id": "f80cdfcd-c71e-4981-8306-f045133c3730",
   "metadata": {},
   "source": [
    "Create the target variable by mapping `yes` to 1 and `no` to 0. "
   ]
  },
  {
   "cell_type": "code",
   "execution_count": 4,
   "id": "2fdf8839-d3c9-4a07-8203-84792484963b",
   "metadata": {},
   "outputs": [],
   "source": [
    "df['card'] = [1 if x == 'yes' else 0 for x in df['card']]"
   ]
  },
  {
   "cell_type": "code",
   "execution_count": 5,
   "id": "49c2120c-8553-40fe-9c05-6d5a3fad184a",
   "metadata": {},
   "outputs": [
    {
     "data": {
      "text/plain": [
       "1    1023\n",
       "0     296\n",
       "Name: card, dtype: int64"
      ]
     },
     "execution_count": 5,
     "metadata": {},
     "output_type": "execute_result"
    }
   ],
   "source": [
    "df.card.value_counts()"
   ]
  },
  {
   "cell_type": "markdown",
   "id": "806aafcd-c692-493d-a81b-09cd2fc09378",
   "metadata": {},
   "source": [
    "Split the dataset into 3 parts: train/validation/test with 60%/20%/20% distribution. Use `train_test_split` funciton for that with `random_state=1`."
   ]
  },
  {
   "cell_type": "code",
   "execution_count": 6,
   "id": "9f99864f-967a-4b44-a356-40d139bede87",
   "metadata": {},
   "outputs": [],
   "source": [
    "from sklearn.model_selection import train_test_split\n",
    "\n",
    "df_train, df_test = train_test_split(df, test_size=0.20, random_state=1)\n",
    "df_train, df_val = train_test_split(df_train, test_size=0.25, random_state=1)"
   ]
  },
  {
   "cell_type": "code",
   "execution_count": 7,
   "id": "9b86aa86-a994-4faa-85f1-9a9c7efac8ca",
   "metadata": {},
   "outputs": [],
   "source": [
    "df_train = df_train.reset_index(drop=True)\n",
    "df_val = df_val.reset_index(drop=True)\n",
    "df_test = df_test.reset_index(drop=True)\n",
    "\n",
    "y_train = df_train.card.values\n",
    "y_val = df_val.card.values\n",
    "y_test = df_test.card.values\n",
    "\n",
    "del df_train['card']\n",
    "del df_val['card']\n",
    "del df_test['card']"
   ]
  },
  {
   "cell_type": "markdown",
   "id": "c21721a1-79d5-4280-a721-5c9184e77180",
   "metadata": {},
   "source": [
    "# 1"
   ]
  },
  {
   "cell_type": "code",
   "execution_count": 8,
   "id": "2a0ea174-fafc-48a5-8d0a-e0ea7bfb9657",
   "metadata": {},
   "outputs": [],
   "source": [
    "cols = [\"reports\", \"age\", \"income\", \"share\", \"expenditure\", \"dependents\", \"months\", \"majorcards\", \"active\", \"owner\", \"selfemp\"]"
   ]
  },
  {
   "cell_type": "code",
   "execution_count": 9,
   "id": "303aee10-15b7-4409-bff3-b0a7a02c3759",
   "metadata": {},
   "outputs": [],
   "source": [
    "from sklearn.linear_model import LogisticRegression\n",
    "from sklearn.feature_extraction import DictVectorizer"
   ]
  },
  {
   "cell_type": "code",
   "execution_count": 10,
   "id": "f4fef665-34f1-4ad5-8fa6-1033bad858b7",
   "metadata": {},
   "outputs": [],
   "source": [
    "numerical = [col for col in df_train.columns if df_train[col].dtype == 'int64'or df_train[col].dtype == 'float64' ]\n",
    "categorical = [col for col in df_train.columns if df_train[col].dtype == \"object\"]"
   ]
  },
  {
   "cell_type": "code",
   "execution_count": 11,
   "id": "d3debbbc-c4a0-44d8-964d-d006b913c3ed",
   "metadata": {},
   "outputs": [
    {
     "name": "stdout",
     "output_type": "stream",
     "text": [
      "reports 0.7166629860689376\n",
      "dependents 0.5327757227773791\n",
      "active 0.6043173411362006\n",
      "share 0.989183643423692\n"
     ]
    }
   ],
   "source": [
    "from sklearn.metrics import roc_auc_score, precision_score, recall_score, f1_score\n",
    "\n",
    "selected = [\"reports\", \"dependents\", \"active\", \"share\"]\n",
    "scores = []\n",
    "for feature in selected:    \n",
    "    score = roc_auc_score(y_train, df_train[feature])\n",
    "    if score < 0.5:\n",
    "        score = roc_auc_score(y_train, -df_train[feature])\n",
    "    scores.append(score)\n",
    "    print(feature, score)"
   ]
  },
  {
   "cell_type": "code",
   "execution_count": 12,
   "id": "c5cad1e3-01a5-4f45-8efa-34ae6cae7a55",
   "metadata": {},
   "outputs": [
    {
     "name": "stdout",
     "output_type": "stream",
     "text": [
      "Answer to question 1 (variable name): share\n"
     ]
    }
   ],
   "source": [
    "print(\"Answer to question 1 (variable name):\", selected[np.where(scores == max(scores))[0][0]])"
   ]
  },
  {
   "cell_type": "markdown",
   "id": "a262dada-2f77-4813-9c1a-2705e7b85e58",
   "metadata": {},
   "source": [
    "# 2"
   ]
  },
  {
   "cell_type": "code",
   "execution_count": 13,
   "id": "1b09fb50-f656-4041-bfff-96612c6f1ba9",
   "metadata": {},
   "outputs": [
    {
     "data": {
      "text/html": [
       "<style>#sk-container-id-1 {color: black;background-color: white;}#sk-container-id-1 pre{padding: 0;}#sk-container-id-1 div.sk-toggleable {background-color: white;}#sk-container-id-1 label.sk-toggleable__label {cursor: pointer;display: block;width: 100%;margin-bottom: 0;padding: 0.3em;box-sizing: border-box;text-align: center;}#sk-container-id-1 label.sk-toggleable__label-arrow:before {content: \"▸\";float: left;margin-right: 0.25em;color: #696969;}#sk-container-id-1 label.sk-toggleable__label-arrow:hover:before {color: black;}#sk-container-id-1 div.sk-estimator:hover label.sk-toggleable__label-arrow:before {color: black;}#sk-container-id-1 div.sk-toggleable__content {max-height: 0;max-width: 0;overflow: hidden;text-align: left;background-color: #f0f8ff;}#sk-container-id-1 div.sk-toggleable__content pre {margin: 0.2em;color: black;border-radius: 0.25em;background-color: #f0f8ff;}#sk-container-id-1 input.sk-toggleable__control:checked~div.sk-toggleable__content {max-height: 200px;max-width: 100%;overflow: auto;}#sk-container-id-1 input.sk-toggleable__control:checked~label.sk-toggleable__label-arrow:before {content: \"▾\";}#sk-container-id-1 div.sk-estimator input.sk-toggleable__control:checked~label.sk-toggleable__label {background-color: #d4ebff;}#sk-container-id-1 div.sk-label input.sk-toggleable__control:checked~label.sk-toggleable__label {background-color: #d4ebff;}#sk-container-id-1 input.sk-hidden--visually {border: 0;clip: rect(1px 1px 1px 1px);clip: rect(1px, 1px, 1px, 1px);height: 1px;margin: -1px;overflow: hidden;padding: 0;position: absolute;width: 1px;}#sk-container-id-1 div.sk-estimator {font-family: monospace;background-color: #f0f8ff;border: 1px dotted black;border-radius: 0.25em;box-sizing: border-box;margin-bottom: 0.5em;}#sk-container-id-1 div.sk-estimator:hover {background-color: #d4ebff;}#sk-container-id-1 div.sk-parallel-item::after {content: \"\";width: 100%;border-bottom: 1px solid gray;flex-grow: 1;}#sk-container-id-1 div.sk-label:hover label.sk-toggleable__label {background-color: #d4ebff;}#sk-container-id-1 div.sk-serial::before {content: \"\";position: absolute;border-left: 1px solid gray;box-sizing: border-box;top: 0;bottom: 0;left: 50%;z-index: 0;}#sk-container-id-1 div.sk-serial {display: flex;flex-direction: column;align-items: center;background-color: white;padding-right: 0.2em;padding-left: 0.2em;position: relative;}#sk-container-id-1 div.sk-item {position: relative;z-index: 1;}#sk-container-id-1 div.sk-parallel {display: flex;align-items: stretch;justify-content: center;background-color: white;position: relative;}#sk-container-id-1 div.sk-item::before, #sk-container-id-1 div.sk-parallel-item::before {content: \"\";position: absolute;border-left: 1px solid gray;box-sizing: border-box;top: 0;bottom: 0;left: 50%;z-index: -1;}#sk-container-id-1 div.sk-parallel-item {display: flex;flex-direction: column;z-index: 1;position: relative;background-color: white;}#sk-container-id-1 div.sk-parallel-item:first-child::after {align-self: flex-end;width: 50%;}#sk-container-id-1 div.sk-parallel-item:last-child::after {align-self: flex-start;width: 50%;}#sk-container-id-1 div.sk-parallel-item:only-child::after {width: 0;}#sk-container-id-1 div.sk-dashed-wrapped {border: 1px dashed gray;margin: 0 0.4em 0.5em 0.4em;box-sizing: border-box;padding-bottom: 0.4em;background-color: white;}#sk-container-id-1 div.sk-label label {font-family: monospace;font-weight: bold;display: inline-block;line-height: 1.2em;}#sk-container-id-1 div.sk-label-container {text-align: center;}#sk-container-id-1 div.sk-container {/* jupyter's `normalize.less` sets `[hidden] { display: none; }` but bootstrap.min.css set `[hidden] { display: none !important; }` so we also need the `!important` here to be able to override the default hidden behavior on the sphinx rendered scikit-learn.org. See: https://github.com/scikit-learn/scikit-learn/issues/21755 */display: inline-block !important;position: relative;}#sk-container-id-1 div.sk-text-repr-fallback {display: none;}</style><div id=\"sk-container-id-1\" class=\"sk-top-container\"><div class=\"sk-text-repr-fallback\"><pre>LogisticRegression(max_iter=1000, solver=&#x27;liblinear&#x27;)</pre><b>In a Jupyter environment, please rerun this cell to show the HTML representation or trust the notebook. <br />On GitHub, the HTML representation is unable to render, please try loading this page with nbviewer.org.</b></div><div class=\"sk-container\" hidden><div class=\"sk-item\"><div class=\"sk-estimator sk-toggleable\"><input class=\"sk-toggleable__control sk-hidden--visually\" id=\"sk-estimator-id-1\" type=\"checkbox\" checked><label for=\"sk-estimator-id-1\" class=\"sk-toggleable__label sk-toggleable__label-arrow\">LogisticRegression</label><div class=\"sk-toggleable__content\"><pre>LogisticRegression(max_iter=1000, solver=&#x27;liblinear&#x27;)</pre></div></div></div></div></div>"
      ],
      "text/plain": [
       "LogisticRegression(max_iter=1000, solver='liblinear')"
      ]
     },
     "execution_count": 13,
     "metadata": {},
     "output_type": "execute_result"
    }
   ],
   "source": [
    "dv = DictVectorizer(sparse=False)\n",
    "\n",
    "train_dict = df_train[categorical + numerical].to_dict(orient='records')\n",
    "X_train = dv.fit_transform(train_dict)\n",
    "\n",
    "model = LogisticRegression(solver='liblinear', C=1.0, max_iter=1000)\n",
    "model.fit(X_train, y_train)"
   ]
  },
  {
   "cell_type": "code",
   "execution_count": 14,
   "id": "87144e29-1624-422b-af64-0231a1066a5a",
   "metadata": {},
   "outputs": [],
   "source": [
    "val_dict = df_val[categorical + numerical].to_dict(orient='records')\n",
    "X_val = dv.transform(val_dict)\n",
    "\n",
    "y_pred = model.predict_proba(X_val)[:, 1]"
   ]
  },
  {
   "cell_type": "code",
   "execution_count": 15,
   "id": "a948552e-43ba-41dc-9560-7d67a88a71f9",
   "metadata": {},
   "outputs": [
    {
     "data": {
      "text/plain": [
       "0.995171242063847"
      ]
     },
     "execution_count": 15,
     "metadata": {},
     "output_type": "execute_result"
    }
   ],
   "source": [
    "roc_auc_score(y_val, y_pred)"
   ]
  },
  {
   "cell_type": "markdown",
   "id": "58d7802f-b7e7-4dfa-83a7-d715008141ab",
   "metadata": {},
   "source": [
    "# 3"
   ]
  },
  {
   "cell_type": "markdown",
   "id": "707a5246-7ea4-486d-bb23-4f9fbe4078a4",
   "metadata": {},
   "source": [
    "Now let's compute precision and recall for our model. Evaluate the model on the validation dataset on all thresholds from 0.0 to 1.0 with step 0.01. For each threshold, compute precision and recall.\n",
    "\n",
    "At which threshold precision and recall curves intersect?"
   ]
  },
  {
   "cell_type": "code",
   "execution_count": 16,
   "id": "503718a1-c719-414c-a632-7dd07d06d5c4",
   "metadata": {},
   "outputs": [],
   "source": [
    "thresholds = np.arange(0, 1.01, 0.01)"
   ]
  },
  {
   "cell_type": "code",
   "execution_count": 17,
   "id": "51dea08c-df1d-4681-a2ee-95903ff3332c",
   "metadata": {},
   "outputs": [
    {
     "name": "stdout",
     "output_type": "stream",
     "text": [
      "Answer to question 3 is: 0.3\n"
     ]
    }
   ],
   "source": [
    "ps = []\n",
    "rs = []\n",
    "for t in thresholds:\n",
    "    preds = (y_pred >= t).astype('int')\n",
    "    p = precision_score(y_val, preds)\n",
    "    ps.append(p)\n",
    "    r = recall_score(y_val, preds)\n",
    "    rs.append(r)\n",
    "\n",
    "for indx, p in enumerate(ps):\n",
    "    if p > rs[indx]:\n",
    "        print('Answer to question 3 is:', thresholds[indx])\n",
    "        break"
   ]
  },
  {
   "cell_type": "code",
   "execution_count": 18,
   "id": "1834c179-997a-47ea-ac98-31b0d80dcd8f",
   "metadata": {},
   "outputs": [
    {
     "data": {
      "image/png": "[encoded data removed]",
      "text/plain": [
       "<Figure size 640x480 with 1 Axes>"
      ]
     },
     "metadata": {},
     "output_type": "display_data"
    }
   ],
   "source": [
    "plt.plot(ps, label='precission')\n",
    "plt.plot(rs, label='recall')\n",
    "plt.legend()\n",
    "plt.show()"
   ]
  },
  {
   "cell_type": "markdown",
   "id": "3780cbe7-9508-4b4b-9bbf-3e0d6eba75f0",
   "metadata": {},
   "source": [
    "# 4"
   ]
  },
  {
   "cell_type": "markdown",
   "id": "2b754e36-cc0a-4fbf-ab50-b08702c5c34c",
   "metadata": {},
   "source": [
    "Compute F1 for all thresholds from 0.0 to 1.0 with increment 0.01 using the validation set. At which threshold F1 is maximal?"
   ]
  },
  {
   "cell_type": "code",
   "execution_count": 19,
   "id": "1a8debf9-3771-4aed-88d2-f137bcb908fc",
   "metadata": {},
   "outputs": [],
   "source": [
    "f1s = []\n",
    "for t in thresholds:\n",
    "    preds = (y_pred >= t).astype('int')\n",
    "    p = precision_score(y_val, preds)\n",
    "    r = recall_score(y_val, preds)\n",
    "    f1 = f1_score(y_val, preds)\n",
    "    f1 = 2 * (p * r) / (p + r)\n",
    "    f1s.append(f1)"
   ]
  },
  {
   "cell_type": "code",
   "execution_count": 20,
   "id": "51ddd3fe-3021-4720-890a-cb42bbe7efb7",
   "metadata": {},
   "outputs": [],
   "source": [
    "answers = [0.1, 0.4, 0.6, 0.7]"
   ]
  },
  {
   "cell_type": "code",
   "execution_count": 21,
   "id": "b8bb3980-57aa-4e25-bf2f-ec15e02ab8a5",
   "metadata": {},
   "outputs": [],
   "source": [
    "indxs = np.where(f1s == max(f1s))[0]"
   ]
  },
  {
   "cell_type": "code",
   "execution_count": 22,
   "id": "e8f3e586-7dd4-4f31-83f9-add0c6bd7883",
   "metadata": {},
   "outputs": [
    {
     "name": "stdout",
     "output_type": "stream",
     "text": [
      "Answer to question 4 is: 0.4\n"
     ]
    }
   ],
   "source": [
    "print(\"Answer to question 4 is:\", thresholds[indxs][np.in1d(thresholds[indxs], answers)][0])"
   ]
  },
  {
   "cell_type": "code",
   "execution_count": 23,
   "id": "ee2b43c2-b34c-4356-850d-55f3e00820c2",
   "metadata": {},
   "outputs": [
    {
     "data": {
      "image/png": "[encoded data removed]",
      "text/plain": [
       "<Figure size 640x480 with 1 Axes>"
      ]
     },
     "metadata": {},
     "output_type": "display_data"
    }
   ],
   "source": [
    "plt.plot(f1s)\n",
    "plt.show()"
   ]
  },
  {
   "cell_type": "markdown",
   "id": "f0044bfd-24bc-4992-82d6-7e70c4ffa4b9",
   "metadata": {},
   "source": [
    "# 5"
   ]
  },
  {
   "cell_type": "code",
   "execution_count": 24,
   "id": "54db42dd-0ffb-4db2-b2dc-5d85a8e91851",
   "metadata": {},
   "outputs": [],
   "source": [
    "numerical = [col for col in df_train.columns if df_train[col].dtype == 'int64'or df_train[col].dtype == 'float64' ]\n",
    "categorical = [col for col in df_train.columns if df_train[col].dtype == \"object\"]"
   ]
  },
  {
   "cell_type": "code",
   "execution_count": 25,
   "id": "8688f26d-9fba-4eab-81a4-6d95026a2e0f",
   "metadata": {},
   "outputs": [],
   "source": [
    "df_train, df_test = train_test_split(df, test_size=0.20, random_state=1)\n",
    "df_train, df_val = train_test_split(df_train, test_size=0.25, random_state=1)"
   ]
  },
  {
   "cell_type": "code",
   "execution_count": 26,
   "id": "2289bfdb-64e4-4c17-a2e7-8b48b347b5ff",
   "metadata": {},
   "outputs": [],
   "source": [
    "def train(df_train, y_train, C=1.0):\n",
    "    dicts = df_train[categorical + numerical].to_dict(orient='records')\n",
    "\n",
    "    dv = DictVectorizer(sparse=False)\n",
    "    X_train = dv.fit_transform(dicts)\n",
    "\n",
    "    model = LogisticRegression(solver='liblinear', C=C, max_iter=1000)\n",
    "    model.fit(X_train, y_train)\n",
    "    \n",
    "    return dv, model"
   ]
  },
  {
   "cell_type": "code",
   "execution_count": 27,
   "id": "ba1275ed-0375-49c4-9117-66de579ca0ef",
   "metadata": {},
   "outputs": [],
   "source": [
    "def predict(df, dv, model):\n",
    "    dicts = df[categorical + numerical].to_dict(orient='records')\n",
    "\n",
    "    X = dv.transform(dicts)\n",
    "    y_pred = model.predict_proba(X)[:, 1]\n",
    "\n",
    "    return y_pred"
   ]
  },
  {
   "cell_type": "code",
   "execution_count": 28,
   "id": "ea32b886-7ce3-4854-a63f-2a0b9f57e18c",
   "metadata": {},
   "outputs": [],
   "source": [
    "from sklearn.model_selection import KFold"
   ]
  },
  {
   "cell_type": "code",
   "execution_count": 29,
   "id": "f7545a97-46ed-4954-ac5f-8f6b9936fb8f",
   "metadata": {},
   "outputs": [
    {
     "name": "stdout",
     "output_type": "stream",
     "text": [
      "Answer for question 5: 0.003\n"
     ]
    }
   ],
   "source": [
    "kfold = KFold(n_splits=5, shuffle=True, random_state=1)\n",
    "\n",
    "scores = []\n",
    "for train_idx, val_idx in kfold.split(df_train):\n",
    "\n",
    "    X_train = df_train.iloc[train_idx]\n",
    "    X_val = df_train.iloc[val_idx]\n",
    "\n",
    "    y_train = X_train.card.values\n",
    "    y_val = X_val.card.values\n",
    "\n",
    "    del X_train['card']\n",
    "    del X_val['card']\n",
    "\n",
    "    dv, model = train(X_train, y_train)\n",
    "    y_pred = predict(X_val, dv, model)\n",
    "\n",
    "    auc = roc_auc_score(y_val, y_pred)\n",
    "    scores.append(auc)\n",
    "    \n",
    "\n",
    "print('Answer for question 5: %.3f' % np.std(scores))"
   ]
  },
  {
   "cell_type": "markdown",
   "id": "474bffe3-142c-416b-8df5-e1d6164fd96d",
   "metadata": {},
   "source": [
    "# 6"
   ]
  },
  {
   "cell_type": "code",
   "execution_count": 30,
   "id": "16e5640f-e0d9-4e6e-a085-a4e120ab93dc",
   "metadata": {},
   "outputs": [],
   "source": [
    "CS = [0.01, 0.1, 1, 10]\n",
    "scores_mean = []\n",
    "scores_std = []\n",
    "\n",
    "for C in CS:\n",
    "    kfold = KFold(n_splits=5, shuffle=True, random_state=1)\n",
    "\n",
    "    for train_idx, val_idx in kfold.split(df_train):\n",
    "\n",
    "        X_train = df_train.iloc[train_idx]\n",
    "        X_val = df_train.iloc[val_idx]\n",
    "\n",
    "        y_train = X_train.card.values\n",
    "        y_val = X_val.card.values\n",
    "\n",
    "        del X_train['card']\n",
    "        del X_val['card']\n",
    "\n",
    "        dv, model = train(X_train, y_train, C)\n",
    "        y_pred = predict(X_val, dv, model)\n",
    "\n",
    "        auc = roc_auc_score(y_val, y_pred)\n",
    "    scores_mean.append(np.mean(auc))\n",
    "    scores_std.append(np.std(auc))"
   ]
  },
  {
   "cell_type": "code",
   "execution_count": 31,
   "id": "425ec842-a32e-4b80-80f9-3027d2b56ee8",
   "metadata": {},
   "outputs": [],
   "source": [
    "indx = np.where(scores_mean == max(scores_mean))[0][0]"
   ]
  },
  {
   "cell_type": "code",
   "execution_count": 32,
   "id": "90b5149a-ff8f-4d49-b3dc-d32b820b131e",
   "metadata": {},
   "outputs": [
    {
     "name": "stdout",
     "output_type": "stream",
     "text": [
      "Answer for question 6: 10\n"
     ]
    }
   ],
   "source": [
    "print(\"Answer for question 6:\", CS[indx])"
   ]
  },
  {
   "cell_type": "code",
   "execution_count": null,
   "id": "562ca4a1-088c-4f49-a836-8bb853abd5a9",
   "metadata": {},
   "outputs": [],
   "source": []
  }
 ],
 "metadata": {
  "kernelspec": {
   "display_name": "Python 3 (ipykernel)",
   "language": "python",
   "name": "python3"
  },
  "language_info": {
   "codemirror_mode": {
    "name": "ipython",
    "version": 3
   },
   "file_extension": ".py",
   "mimetype": "text/x-python",
   "name": "python",
   "nbconvert_exporter": "python",
   "pygments_lexer": "ipython3",
   "version": "3.9.7"
  }
 },
 "nbformat": 4,
 "nbformat_minor": 5
}
