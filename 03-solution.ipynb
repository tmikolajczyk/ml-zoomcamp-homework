{
 "cells": [
  {
   "cell_type": "code",
   "execution_count": 1,
   "id": "73fe5f68-2ea8-403f-ab75-81d6b8e9ca40",
   "metadata": {},
   "outputs": [],
   "source": [
    "import pandas as pd\n",
    "import numpy as np"
   ]
  },
  {
   "cell_type": "code",
   "execution_count": 2,
   "id": "c8aaec07-7e2d-4568-8f70-c3273202833f",
   "metadata": {},
   "outputs": [],
   "source": [
    "df = pd.read_csv('housing.csv')"
   ]
  },
  {
   "cell_type": "code",
   "execution_count": 3,
   "id": "bf6afdde-5054-4edd-be37-35ccad0f8a9a",
   "metadata": {},
   "outputs": [
    {
     "data": {
      "text/html": [
       "<div>\n",
       "<style scoped>\n",
       "    .dataframe tbody tr th:only-of-type {\n",
       "        vertical-align: middle;\n",
       "    }\n",
       "\n",
       "    .dataframe tbody tr th {\n",
       "        vertical-align: top;\n",
       "    }\n",
       "\n",
       "    .dataframe thead th {\n",
       "        text-align: right;\n",
       "    }\n",
       "</style>\n",
       "<table border=\"1\" class=\"dataframe\">\n",
       "  <thead>\n",
       "    <tr style=\"text-align: right;\">\n",
       "      <th></th>\n",
       "      <th>longitude</th>\n",
       "      <th>latitude</th>\n",
       "      <th>housing_median_age</th>\n",
       "      <th>total_rooms</th>\n",
       "      <th>total_bedrooms</th>\n",
       "      <th>population</th>\n",
       "      <th>households</th>\n",
       "      <th>median_income</th>\n",
       "      <th>median_house_value</th>\n",
       "      <th>ocean_proximity</th>\n",
       "    </tr>\n",
       "  </thead>\n",
       "  <tbody>\n",
       "    <tr>\n",
       "      <th>0</th>\n",
       "      <td>-122.23</td>\n",
       "      <td>37.88</td>\n",
       "      <td>41.0</td>\n",
       "      <td>880.0</td>\n",
       "      <td>129.0</td>\n",
       "      <td>322.0</td>\n",
       "      <td>126.0</td>\n",
       "      <td>8.3252</td>\n",
       "      <td>452600.0</td>\n",
       "      <td>NEAR BAY</td>\n",
       "    </tr>\n",
       "    <tr>\n",
       "      <th>1</th>\n",
       "      <td>-122.22</td>\n",
       "      <td>37.86</td>\n",
       "      <td>21.0</td>\n",
       "      <td>7099.0</td>\n",
       "      <td>1106.0</td>\n",
       "      <td>2401.0</td>\n",
       "      <td>1138.0</td>\n",
       "      <td>8.3014</td>\n",
       "      <td>358500.0</td>\n",
       "      <td>NEAR BAY</td>\n",
       "    </tr>\n",
       "    <tr>\n",
       "      <th>2</th>\n",
       "      <td>-122.24</td>\n",
       "      <td>37.85</td>\n",
       "      <td>52.0</td>\n",
       "      <td>1467.0</td>\n",
       "      <td>190.0</td>\n",
       "      <td>496.0</td>\n",
       "      <td>177.0</td>\n",
       "      <td>7.2574</td>\n",
       "      <td>352100.0</td>\n",
       "      <td>NEAR BAY</td>\n",
       "    </tr>\n",
       "    <tr>\n",
       "      <th>3</th>\n",
       "      <td>-122.25</td>\n",
       "      <td>37.85</td>\n",
       "      <td>52.0</td>\n",
       "      <td>1274.0</td>\n",
       "      <td>235.0</td>\n",
       "      <td>558.0</td>\n",
       "      <td>219.0</td>\n",
       "      <td>5.6431</td>\n",
       "      <td>341300.0</td>\n",
       "      <td>NEAR BAY</td>\n",
       "    </tr>\n",
       "    <tr>\n",
       "      <th>4</th>\n",
       "      <td>-122.25</td>\n",
       "      <td>37.85</td>\n",
       "      <td>52.0</td>\n",
       "      <td>1627.0</td>\n",
       "      <td>280.0</td>\n",
       "      <td>565.0</td>\n",
       "      <td>259.0</td>\n",
       "      <td>3.8462</td>\n",
       "      <td>342200.0</td>\n",
       "      <td>NEAR BAY</td>\n",
       "    </tr>\n",
       "  </tbody>\n",
       "</table>\n",
       "</div>"
      ],
      "text/plain": [
       "   longitude  latitude  housing_median_age  total_rooms  total_bedrooms  \\\n",
       "0    -122.23     37.88                41.0        880.0           129.0   \n",
       "1    -122.22     37.86                21.0       7099.0          1106.0   \n",
       "2    -122.24     37.85                52.0       1467.0           190.0   \n",
       "3    -122.25     37.85                52.0       1274.0           235.0   \n",
       "4    -122.25     37.85                52.0       1627.0           280.0   \n",
       "\n",
       "   population  households  median_income  median_house_value ocean_proximity  \n",
       "0       322.0       126.0         8.3252            452600.0        NEAR BAY  \n",
       "1      2401.0      1138.0         8.3014            358500.0        NEAR BAY  \n",
       "2       496.0       177.0         7.2574            352100.0        NEAR BAY  \n",
       "3       558.0       219.0         5.6431            341300.0        NEAR BAY  \n",
       "4       565.0       259.0         3.8462            342200.0        NEAR BAY  "
      ]
     },
     "execution_count": 3,
     "metadata": {},
     "output_type": "execute_result"
    }
   ],
   "source": [
    "df.head()"
   ]
  },
  {
   "cell_type": "code",
   "execution_count": 4,
   "id": "a4363aa2-dc83-4d2c-aca2-45b01373b8ee",
   "metadata": {},
   "outputs": [],
   "source": [
    "cols = ['latitude','longitude','housing_median_age','total_rooms','total_bedrooms','population',\n",
    "        'households','median_income','median_house_value','ocean_proximity']"
   ]
  },
  {
   "cell_type": "code",
   "execution_count": 5,
   "id": "d29be05c-9e25-4e1b-92df-78ee5a7339d8",
   "metadata": {},
   "outputs": [],
   "source": [
    "df = df[cols]"
   ]
  },
  {
   "cell_type": "code",
   "execution_count": 6,
   "id": "f65c2db1-3f1c-486b-a22f-127b7e99d112",
   "metadata": {},
   "outputs": [],
   "source": [
    "# Select only the features from above and fill in the missing values with 0.\n",
    "df = df.fillna(0)"
   ]
  },
  {
   "cell_type": "code",
   "execution_count": 7,
   "id": "805d6bd6-f540-4062-aa75-e27bbca47f4b",
   "metadata": {},
   "outputs": [],
   "source": [
    "# Create a new column `rooms_per_household` by dividing the column `total_rooms` by the column `households` from dataframe.\n",
    "df = df.assign(rooms_per_household = df['total_rooms'] / df['households'])"
   ]
  },
  {
   "cell_type": "code",
   "execution_count": 8,
   "id": "5ec4fa60-77aa-4b70-9608-a79fbfb6af36",
   "metadata": {},
   "outputs": [],
   "source": [
    "# Create a new column `bedrooms_per_room` by dividing the column `total_bedrooms` by the column `total_rooms` from dataframe. \n",
    "df = df.assign(bedrooms_per_room = df['total_bedrooms'] / df['total_rooms'])"
   ]
  },
  {
   "cell_type": "code",
   "execution_count": 9,
   "id": "f8624704-63b6-493e-ae5c-fcfc51702ea0",
   "metadata": {},
   "outputs": [],
   "source": [
    "# Create a new column `population_per_household` by dividing the column `population` by the column `households` from dataframe. \n",
    "df = df.assign(population_per_household = df['population'] / df['households'])"
   ]
  },
  {
   "cell_type": "markdown",
   "id": "78881829-15ea-4793-9407-484461d69938",
   "metadata": {},
   "source": [
    "# 1\n",
    "\n",
    "What is the most frequent observation (mode) for the column `ocean_proximity`?"
   ]
  },
  {
   "cell_type": "code",
   "execution_count": 10,
   "id": "385fc63a-bef8-4007-b491-f6795860c732",
   "metadata": {},
   "outputs": [
    {
     "data": {
      "text/plain": [
       "'<1H OCEAN'"
      ]
     },
     "execution_count": 10,
     "metadata": {},
     "output_type": "execute_result"
    }
   ],
   "source": [
    "df['ocean_proximity'].value_counts().index[0]"
   ]
  },
  {
   "cell_type": "markdown",
   "id": "0c15c6b9-12a2-42b3-a59f-7358312b2822",
   "metadata": {},
   "source": [
    "# 2\n",
    "\n",
    "- Create the correlation matrix for the numerical features of your train dataset\n",
    "- In a correlation matrix, you compute the correlation coefficient between every pair of features in the dataset.\n",
    "\n",
    "What are the two features that have the biggest correlation in this dataset?"
   ]
  },
  {
   "cell_type": "code",
   "execution_count": 11,
   "id": "5eec2845-d4a3-4f83-83fc-c9a6599286cb",
   "metadata": {},
   "outputs": [
    {
     "data": {
      "text/plain": [
       "latitude                    float64\n",
       "longitude                   float64\n",
       "housing_median_age          float64\n",
       "total_rooms                 float64\n",
       "total_bedrooms              float64\n",
       "population                  float64\n",
       "households                  float64\n",
       "median_income               float64\n",
       "median_house_value          float64\n",
       "ocean_proximity              object\n",
       "rooms_per_household         float64\n",
       "bedrooms_per_room           float64\n",
       "population_per_household    float64\n",
       "dtype: object"
      ]
     },
     "execution_count": 11,
     "metadata": {},
     "output_type": "execute_result"
    }
   ],
   "source": [
    "df.dtypes"
   ]
  },
  {
   "cell_type": "code",
   "execution_count": 12,
   "id": "8ee0042e-4c84-4f55-966c-8cd779c87133",
   "metadata": {},
   "outputs": [],
   "source": [
    "cor_matrix = df.drop(['latitude', 'longitude', 'ocean_proximity'], axis=1).corr().abs()"
   ]
  },
  {
   "cell_type": "code",
   "execution_count": 13,
   "id": "25aedeae-d952-47fd-a3d6-77c52f444629",
   "metadata": {},
   "outputs": [],
   "source": [
    "s = cor_matrix.unstack()\n",
    "so = s.sort_values(kind=\"quicksort\")\n",
    "so.drop_duplicates(inplace=True)"
   ]
  },
  {
   "cell_type": "code",
   "execution_count": 14,
   "id": "9ea6792d-345b-4d40-98f9-0d6e80cc6031",
   "metadata": {},
   "outputs": [
    {
     "data": {
      "text/plain": [
       "('households', 'total_bedrooms')"
      ]
     },
     "execution_count": 14,
     "metadata": {},
     "output_type": "execute_result"
    }
   ],
   "source": [
    "so[so != 1].index[-1]"
   ]
  },
  {
   "cell_type": "code",
   "execution_count": 15,
   "id": "f038a2b4-275e-47e7-8ce8-e607ddf909d3",
   "metadata": {},
   "outputs": [
    {
     "data": {
      "text/plain": [
       "('total_bedrooms', 'total_rooms')"
      ]
     },
     "execution_count": 15,
     "metadata": {},
     "output_type": "execute_result"
    }
   ],
   "source": [
    "so[so != 1].index[-2]"
   ]
  },
  {
   "cell_type": "markdown",
   "id": "2067cce1-4d03-4659-ad5f-59b21b283f31",
   "metadata": {},
   "source": [
    "# 3\n",
    "\n",
    "Create a variable `above_average` which is `1` if the `median_house_value` is above its mean value and `0` otherwise.\n",
    "\n",
    "Split your data in train/val/test sets, with 60%/20%/20% distribution. Use Scikit-Learn for that (the `train_test_split` function) and set the seed to 42.\n",
    "\n",
    "Calculate the mutual information score with the (binarized) price for the categorical variable that we have. Use the training set only.\n",
    "What is the value of mutual information?\n",
    "Round it to 2 decimal digits using `round(score, 2)`"
   ]
  },
  {
   "cell_type": "code",
   "execution_count": 16,
   "id": "e038444e-c1ae-4950-829a-0c4bffbff501",
   "metadata": {},
   "outputs": [],
   "source": [
    "median_median_house_value = df['median_house_value'].median()"
   ]
  },
  {
   "cell_type": "code",
   "execution_count": 17,
   "id": "c472ba2d-7741-4e22-857e-6e285db295e7",
   "metadata": {},
   "outputs": [],
   "source": [
    "df['above_average'] = [1 if x > median_median_house_value else 0 for x in df['median_house_value']]"
   ]
  },
  {
   "cell_type": "code",
   "execution_count": 18,
   "id": "282fe331-91ca-4a66-ac40-5e03874f9df9",
   "metadata": {},
   "outputs": [],
   "source": [
    "y = df['above_average']\n",
    "X = df.drop(['above_average', 'median_house_value'], axis=1)"
   ]
  },
  {
   "cell_type": "code",
   "execution_count": 19,
   "id": "1d289acf-51be-4c6d-911f-0f3378e62656",
   "metadata": {},
   "outputs": [],
   "source": [
    "from sklearn.model_selection import train_test_split\n",
    "\n",
    "X_train, X_test, y_train, y_test = train_test_split(X, y, test_size=0.20, random_state=42)\n",
    "X_train, X_val, y_train, y_val = train_test_split(X_train, y_train, test_size=0.25, random_state=42)"
   ]
  },
  {
   "cell_type": "code",
   "execution_count": 20,
   "id": "e98b22b3-ae6c-47ab-a683-e66bc9f0d44d",
   "metadata": {},
   "outputs": [
    {
     "data": {
      "text/plain": [
       "0.12"
      ]
     },
     "execution_count": 20,
     "metadata": {},
     "output_type": "execute_result"
    }
   ],
   "source": [
    "from sklearn.metrics import mutual_info_score\n",
    "round(mutual_info_score(X_train.ocean_proximity, pd.Series(y_train)), 2)"
   ]
  },
  {
   "cell_type": "markdown",
   "id": "47ed2552-47f0-4fdc-a06a-29f2100472fb",
   "metadata": {},
   "source": [
    "# 4\n",
    "\n",
    "Fit the logistic regression model on the training dataset.\n",
    "\n",
    "Calculate the accuracy on the validation dataset and round it to 2 decimal digits."
   ]
  },
  {
   "cell_type": "code",
   "execution_count": 21,
   "id": "d3d51262-13b4-4b57-a4f7-fb9510ada856",
   "metadata": {},
   "outputs": [],
   "source": [
    "from sklearn.preprocessing import OneHotEncoder\n",
    "\n",
    "ohe = OneHotEncoder(handle_unknown='ignore', sparse=False)\n",
    "\n",
    "OH_cols_train = pd.DataFrame(ohe.fit_transform(X_train[['ocean_proximity']]), columns=ohe.get_feature_names_out())\n",
    "OH_cols_test = pd.DataFrame(ohe.transform(X_test[['ocean_proximity']]), columns=ohe.get_feature_names_out())\n",
    "OH_cols_valid = pd.DataFrame(ohe.transform(X_val[['ocean_proximity']]), columns=ohe.get_feature_names_out())\n",
    "\n",
    "# One-hot encoding removed index; put it back\n",
    "OH_cols_train.index = X_train.index\n",
    "OH_cols_test.index = X_test.index\n",
    "OH_cols_valid.index = X_val.index\n",
    "\n",
    "# Remove categorical columns (will replace with one-hot encoding)\n",
    "numeric_X_train = X_train.drop('ocean_proximity', axis=1)\n",
    "numeric_X_test = X_test.drop('ocean_proximity', axis=1)\n",
    "numeric_X_valid = X_val.drop('ocean_proximity', axis=1)\n",
    "\n",
    "# Add one-hot encoded columns to numerical features\n",
    "X_train = pd.concat([numeric_X_train, OH_cols_train], axis=1)\n",
    "X_test = pd.concat([numeric_X_test, OH_cols_test], axis=1)\n",
    "X_val = pd.concat([numeric_X_valid, OH_cols_valid], axis=1)"
   ]
  },
  {
   "cell_type": "code",
   "execution_count": 22,
   "id": "b02f896e-7cf3-4075-96f8-66bf13da8eb0",
   "metadata": {},
   "outputs": [],
   "source": [
    "from sklearn.linear_model import LogisticRegression"
   ]
  },
  {
   "cell_type": "code",
   "execution_count": 23,
   "id": "ea39edf2-af75-4685-bbe2-8616d5ad5d75",
   "metadata": {},
   "outputs": [],
   "source": [
    "model = LogisticRegression(solver=\"liblinear\", C=1.0, max_iter=1000, random_state=42)\n",
    "results = model.fit(X_train, y_train)"
   ]
  },
  {
   "cell_type": "code",
   "execution_count": 24,
   "id": "d24e1b47-0ce2-451f-adb0-2eaabd4abbfc",
   "metadata": {},
   "outputs": [],
   "source": [
    "from sklearn.metrics import accuracy_score"
   ]
  },
  {
   "cell_type": "code",
   "execution_count": 25,
   "id": "36921e5e-9737-4912-80e5-5d208bfcb96d",
   "metadata": {},
   "outputs": [
    {
     "data": {
      "text/plain": [
       "0.83"
      ]
     },
     "execution_count": 25,
     "metadata": {},
     "output_type": "execute_result"
    }
   ],
   "source": [
    "accuracy = accuracy_score(y_val, results.predict(X_val))\n",
    "round(accuracy, 2)"
   ]
  },
  {
   "cell_type": "markdown",
   "id": "b774cfc0-d9d1-42eb-86d9-8d95db2ad746",
   "metadata": {},
   "source": [
    "# 5"
   ]
  },
  {
   "cell_type": "markdown",
   "id": "4af96ea8-692e-48ac-b473-dd0c0590ff66",
   "metadata": {},
   "source": [
    "df_full_train, df_test = train_test_split(df, test_size=0.2, random_state=42)\n",
    "df_train, df_val = train_test_split(df_full_train, test_size=0.25, random_state=42)"
   ]
  },
  {
   "cell_type": "code",
   "execution_count": 26,
   "id": "2a61b0a7-9451-496c-bc12-dfd983b68e71",
   "metadata": {},
   "outputs": [],
   "source": [
    "df_train = X_train.copy()\n",
    "df_val = X_val.copy()"
   ]
  },
  {
   "cell_type": "code",
   "execution_count": 32,
   "id": "ef94b9c2-2ff7-439e-9ec0-b62b4d0b5ec6",
   "metadata": {},
   "outputs": [
    {
     "name": "stdout",
     "output_type": "stream",
     "text": [
      "latitude -0.0019379844961240345 0.8343023255813954\n",
      "longitude 0.0004844961240310086 0.8318798449612403\n",
      "housing_median_age 0.002422480620155043 0.8299418604651163\n",
      "total_rooms -0.0029069767441860517 0.8352713178294574\n",
      "total_bedrooms 0.0021802325581395943 0.8301841085271318\n",
      "population 0.005087209302325646 0.8272771317829457\n",
      "households 0.004844961240310086 0.8275193798449613\n",
      "median_income 0.057412790697674465 0.7749515503875969\n",
      "rooms_per_household 0.0016957364341085857 0.8306686046511628\n",
      "bedrooms_per_room 0.0016957364341085857 0.8306686046511628\n",
      "population_per_household 0.0009689922480620172 0.8313953488372093\n",
      "ocean_proximity_<1H OCEAN 0.00024224806201555982 0.8321220930232558\n",
      "ocean_proximity_INLAND 0.0007267441860465684 0.8316375968992248\n",
      "ocean_proximity_ISLAND 0.0004844961240310086 0.8318798449612403\n",
      "ocean_proximity_NEAR BAY 0.0021802325581395943 0.8301841085271318\n",
      "ocean_proximity_NEAR OCEAN 0.0014534883720930258 0.8309108527131783\n"
     ]
    }
   ],
   "source": [
    "from sklearn.feature_extraction import DictVectorizer\n",
    "\n",
    "orig_score = accuracy\n",
    "features = df_train.columns.tolist()\n",
    "\n",
    "res = []\n",
    "for c in features:\n",
    "    subset = features.copy()\n",
    "    subset.remove(c)\n",
    "    \n",
    "    train_dict = df_train[subset].to_dict(orient='records')\n",
    "\n",
    "    dv = DictVectorizer(sparse=False)\n",
    "    dv.fit(train_dict)\n",
    "\n",
    "    X_train = dv.transform(train_dict)\n",
    "\n",
    "    model = LogisticRegression(solver=\"liblinear\", C=1.0, max_iter=1000, random_state=42)\n",
    "    model.fit(X_train, y_train)\n",
    "\n",
    "    val_dict = df_val[subset].to_dict(orient='records')\n",
    "    X_val = dv.transform(val_dict)\n",
    "\n",
    "    y_pred = model.predict(X_val)\n",
    "\n",
    "    score = accuracy_score(y_val, y_pred)\n",
    "    score_new = orig_score - score\n",
    "    res.append(score_new)\n",
    "    print(c, score_new, score)"
   ]
  },
  {
   "cell_type": "code",
   "execution_count": 33,
   "id": "937730a7-a417-433e-9bf2-237d9ee956a6",
   "metadata": {},
   "outputs": [
    {
     "data": {
      "text/plain": [
       "'total_rooms'"
      ]
     },
     "execution_count": 33,
     "metadata": {},
     "output_type": "execute_result"
    }
   ],
   "source": [
    "features[np.where(res == min(res))[0][0]]"
   ]
  },
  {
   "cell_type": "markdown",
   "id": "880b53b0-822c-41a3-a0e9-487bdd027f9d",
   "metadata": {},
   "source": [
    "# 6"
   ]
  },
  {
   "cell_type": "code",
   "execution_count": 50,
   "id": "16bd074f-c29b-427e-97e2-ad59792f5d6a",
   "metadata": {},
   "outputs": [],
   "source": [
    "df = df.assign(median_house_value = np.log10(df['median_house_value']))\n",
    "\n",
    "y = df['above_average']\n",
    "X = df.drop(['above_average', 'median_house_value'], axis=1)\n",
    "\n",
    "X_train, X_test, y_train, y_test = train_test_split(X, y, test_size=0.20, random_state=42)\n",
    "X_train, X_val, y_train, y_val = train_test_split(X_train, y_train, test_size=0.25, random_state=42)\n",
    "\n",
    "OH_cols_train = pd.DataFrame(ohe.fit_transform(X_train[['ocean_proximity']]), columns=ohe.get_feature_names_out())\n",
    "OH_cols_test = pd.DataFrame(ohe.transform(X_test[['ocean_proximity']]), columns=ohe.get_feature_names_out())\n",
    "OH_cols_valid = pd.DataFrame(ohe.transform(X_val[['ocean_proximity']]), columns=ohe.get_feature_names_out())\n",
    "\n",
    "# One-hot encoding removed index; put it back\n",
    "OH_cols_train.index = X_train.index\n",
    "OH_cols_test.index = X_test.index\n",
    "OH_cols_valid.index = X_val.index\n",
    "\n",
    "# Remove categorical columns (will replace with one-hot encoding)\n",
    "numeric_X_train = X_train.drop('ocean_proximity', axis=1)\n",
    "numeric_X_test = X_test.drop('ocean_proximity', axis=1)\n",
    "numeric_X_valid = X_val.drop('ocean_proximity', axis=1)\n",
    "\n",
    "# Add one-hot encoded columns to numerical features\n",
    "X_train = pd.concat([numeric_X_train, OH_cols_train], axis=1)\n",
    "X_test = pd.concat([numeric_X_test, OH_cols_test], axis=1)\n",
    "X_val = pd.concat([numeric_X_valid, OH_cols_valid], axis=1)"
   ]
  },
  {
   "cell_type": "code",
   "execution_count": 52,
   "id": "35d986b4-2032-4f2f-b89c-4c23fc03cf25",
   "metadata": {},
   "outputs": [],
   "source": [
    "from sklearn.linear_model import Ridge\n",
    "from sklearn.metrics import mean_squared_error"
   ]
  },
  {
   "cell_type": "code",
   "execution_count": 58,
   "id": "1de844cb-27ef-4182-bed0-d239ce4cc2de",
   "metadata": {},
   "outputs": [
    {
     "name": "stdout",
     "output_type": "stream",
     "text": [
      "0 0.468\n",
      "0.01 0.468\n",
      "0.1 0.468\n",
      "1 0.468\n",
      "10 0.468\n"
     ]
    }
   ],
   "source": [
    "scores = []\n",
    "alphas = [0, 0.01, 0.1, 1, 10]\n",
    "for a in alphas:\n",
    "    model = Ridge(alpha=a, solver=\"sag\", random_state=42)\n",
    "    model.fit(X_train, y_train)\n",
    "    y_pred = model.predict(X_val)\n",
    "    score = np.sqrt(mean_squared_error(y_val, y_pred))\n",
    "    scores.append(score)\n",
    "    print(a, round(score, 3))"
   ]
  },
  {
   "cell_type": "code",
   "execution_count": 63,
   "id": "54d19d9f-1d6c-4ed2-b446-c44b187de291",
   "metadata": {},
   "outputs": [
    {
     "name": "stdout",
     "output_type": "stream",
     "text": [
      "The best alpha parameter is: 0\n"
     ]
    }
   ],
   "source": [
    "print('The best alpha parameter is:',  alphas[np.where(scores == min(scores))[0][0]])"
   ]
  },
  {
   "cell_type": "code",
   "execution_count": null,
   "id": "23f0af46-cc54-4316-b773-802962eda904",
   "metadata": {},
   "outputs": [],
   "source": []
  }
 ],
 "metadata": {
  "kernelspec": {
   "display_name": "Python 3 (ipykernel)",
   "language": "python",
   "name": "python3"
  },
  "language_info": {
   "codemirror_mode": {
    "name": "ipython",
    "version": 3
   },
   "file_extension": ".py",
   "mimetype": "text/x-python",
   "name": "python",
   "nbconvert_exporter": "python",
   "pygments_lexer": "ipython3",
   "version": "3.9.7"
  }
 },
 "nbformat": 4,
 "nbformat_minor": 5
}
