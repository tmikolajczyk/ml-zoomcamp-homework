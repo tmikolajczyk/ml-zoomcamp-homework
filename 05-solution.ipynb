{
 "cells": [
  {
   "cell_type": "markdown",
   "id": "049ecec3-fd46-43c0-8309-eac4045adf8d",
   "metadata": {
    "tags": []
   },
   "source": [
    "# Q1"
   ]
  },
  {
   "cell_type": "code",
   "execution_count": 11,
   "id": "bbc3c6e5-4bd9-4cf8-9eb5-b2e4f9a680ae",
   "metadata": {},
   "outputs": [
    {
     "name": "stdout",
     "output_type": "stream",
     "text": [
      "\u001b[1mpipenv\u001b[0m, version 2022.9.8\n",
      "\u001b[0m"
     ]
    }
   ],
   "source": [
    "!pipenv --version"
   ]
  },
  {
   "cell_type": "markdown",
   "id": "caaa5163-76f0-4fc6-9c61-bb1c03d8b6be",
   "metadata": {},
   "source": [
    "# Q2"
   ]
  },
  {
   "cell_type": "code",
   "execution_count": 1,
   "id": "d66fd61e-be00-47db-b7fe-e2a9eb454359",
   "metadata": {},
   "outputs": [],
   "source": [
    "with open('Pipfile.lock') as f:\n",
    "    lines = f.readlines()"
   ]
  },
  {
   "cell_type": "code",
   "execution_count": 2,
   "id": "63ce8c00-33c9-40e6-8689-2207d9fa1e9a",
   "metadata": {},
   "outputs": [],
   "source": [
    "ind = [(indx, line) for indx, line in enumerate(lines) if 'scikit-learn' in line][0][0]"
   ]
  },
  {
   "cell_type": "code",
   "execution_count": 45,
   "id": "09f9271e-47f5-4756-93ca-ca6a3c1f340e",
   "metadata": {},
   "outputs": [
    {
     "data": {
      "text/plain": [
       "'8ef968f6b72033c16c479c966bf37ccd49b06ea91b765e1cc27afefe723920b'"
      ]
     },
     "execution_count": 45,
     "metadata": {},
     "output_type": "execute_result"
    }
   ],
   "source": [
    "lines[ind+2].strip().split(':')[1][1:-2]"
   ]
  },
  {
   "cell_type": "markdown",
   "id": "f3771f05-6f31-4512-af87-41bacd892ec7",
   "metadata": {},
   "source": [
    "# Q3"
   ]
  },
  {
   "cell_type": "code",
   "execution_count": 9,
   "id": "61848acc-d470-4cc2-9f3e-b591a4e79d74",
   "metadata": {},
   "outputs": [],
   "source": [
    "import pickle"
   ]
  },
  {
   "cell_type": "code",
   "execution_count": 10,
   "id": "de9f554b-e100-4277-a076-0e4377184ad7",
   "metadata": {},
   "outputs": [],
   "source": [
    "with open('model1.bin','rb') as f_in:\n",
    "    model = pickle.load(f_in)\n",
    "\n",
    "with open('dv.bin','rb') as dv_in:\n",
    "    dv = pickle.load(dv_in)"
   ]
  },
  {
   "cell_type": "code",
   "execution_count": 20,
   "id": "d91d6988-8c17-4b8e-af9f-30d2adb662bb",
   "metadata": {},
   "outputs": [
    {
     "name": "stdout",
     "output_type": "stream",
     "text": [
      "0.162\n"
     ]
    }
   ],
   "source": [
    "X_test = dv.transform({\"reports\": 0, \"share\": 0.001694, \"expenditure\": 0.12, \"owner\": \"yes\"})\n",
    "print(round(model.predict_proba(X_test)[:,1][0], 3))"
   ]
  },
  {
   "cell_type": "markdown",
   "id": "a82a9d44-ccc0-4049-be28-9f6dec7d3181",
   "metadata": {},
   "source": [
    "# 4"
   ]
  },
  {
   "cell_type": "code",
   "execution_count": 22,
   "id": "42853613-4a11-42a1-94f3-b8b3ac25952d",
   "metadata": {},
   "outputs": [
    {
     "name": "stdout",
     "output_type": "stream",
     "text": [
      "{'Probability of getting a card': 0.928}\n"
     ]
    }
   ],
   "source": [
    "import requests\n",
    "\n",
    "url = 'http://127.0.0.1:9696/predict'\n",
    "client = {\"reports\": 0, \"share\": 0.245, \"expenditure\": 3.438, \"owner\": \"yes\"}\n",
    "requests.post(url, json=client).json()\n",
    "\n",
    "print(response)"
   ]
  },
  {
   "cell_type": "markdown",
   "id": "05983477-54e1-4a1d-bcd6-a5ba3365a5a3",
   "metadata": {},
   "source": [
    "# 5"
   ]
  },
  {
   "cell_type": "markdown",
   "id": "698a8e5b-67eb-4ead-bb0f-f98e83a911b0",
   "metadata": {},
   "source": [
    "![image](Docker_images.png)"
   ]
  },
  {
   "cell_type": "markdown",
   "id": "e83a1f6d-242e-4c7b-984b-8eb05a101bcc",
   "metadata": {},
   "source": [
    "# 6"
   ]
  },
  {
   "cell_type": "code",
   "execution_count": 41,
   "id": "fdf11fd5-9d6e-42e0-81e9-c45b5ea902e6",
   "metadata": {},
   "outputs": [
    {
     "name": "stdout",
     "output_type": "stream",
     "text": [
      "{'Probability of getting a card': 0.769}\n"
     ]
    }
   ],
   "source": [
    "url = 'http://0.0.0.0:9696/predict'\n",
    "client = {\"reports\": 0, \"share\": 0.245, \"expenditure\": 3.438, \"owner\": \"yes\"}\n",
    "requests.post(url, json=client).json()\n",
    "\n",
    "print(response)"
   ]
  }
 ],
 "metadata": {
  "kernelspec": {
   "display_name": "Python 3 (ipykernel)",
   "language": "python",
   "name": "python3"
  },
  "language_info": {
   "codemirror_mode": {
    "name": "ipython",
    "version": 3
   },
   "file_extension": ".py",
   "mimetype": "text/x-python",
   "name": "python",
   "nbconvert_exporter": "python",
   "pygments_lexer": "ipython3",
   "version": "3.7.3"
  }
 },
 "nbformat": 4,
 "nbformat_minor": 5
}
